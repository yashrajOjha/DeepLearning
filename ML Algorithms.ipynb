{
 "cells": [
  {
   "cell_type": "code",
   "execution_count": 2,
   "id": "39f99f82",
   "metadata": {},
   "outputs": [
    {
     "name": "stdout",
     "output_type": "stream",
     "text": [
      "[25.]\n"
     ]
    },
    {
     "data": {
      "image/png": "[encoded data removed]",
      "text/plain": [
       "<Figure size 432x288 with 1 Axes>"
      ]
     },
     "metadata": {
      "needs_background": "light"
     },
     "output_type": "display_data"
    }
   ],
   "source": [
    "#Linear Regression\n",
    "import matplotlib\n",
    "import matplotlib.pyplot as plt\n",
    "import numpy as np\n",
    "import pandas as pd\n",
    "import sklearn\n",
    "from sklearn import linear_model\n",
    "height=[[4.0],[5.0],[6.0],[7.0],[8.0],[9.0],[10.0]]\n",
    "weight=[  9, 11, 13, 15, 17, 19, 21] # y=2x+1\n",
    "plt.scatter(height,weight,color='red') #creating a scatter plot\n",
    "plt.xlabel(\"height\") #assigning x coordinate\n",
    "plt.ylabel(\"weight\") #assigning y coordinate\n",
    "reg=linear_model.LinearRegression() #calling the algorithm\n",
    "reg.fit(height,weight) #passing input and output\n",
    "X_height=[[12.0]] \n",
    "print(reg.predict(X_height)) #giving input to predict output"
   ]
  },
  {
   "cell_type": "code",
   "execution_count": 5,
   "id": "89561c89",
   "metadata": {},
   "outputs": [
    {
     "name": "stdout",
     "output_type": "stream",
     "text": [
      "[0]\n",
      "[1]\n"
     ]
    }
   ],
   "source": [
    "#Logistic Regression, checking if student is pass or fail\n",
    "import numpy as np\n",
    "import matplotlib.pyplot as plt\n",
    "import pandas as pd\n",
    "from sklearn.linear_model import LogisticRegression\n",
    "x = [[30],[40],[50],[60],[20],[10],[70]]\n",
    "y = [0,1,1,1,0,0,1]\n",
    "classifier = LogisticRegression()\n",
    "classifier.fit(x,y)\n",
    "x_marks=[[32]] #lower than forty\n",
    "x1_marks=[[45]] #more than forty\n",
    "print(classifier.predict(x_marks))\n",
    "print(classifier.predict(x1_marks))"
   ]
  },
  {
   "cell_type": "code",
   "execution_count": 6,
   "id": "ee664473",
   "metadata": {},
   "outputs": [
    {
     "name": "stdout",
     "output_type": "stream",
     "text": [
      "[0]\n",
      "[1]\n"
     ]
    }
   ],
   "source": [
    "#Decision tree\n",
    "import numpy as np\n",
    "import matplotlib.pyplot as plt\n",
    "import pandas as pd\n",
    "from sklearn.tree import DecisionTreeClassifier\n",
    "x = [[30],[40],[50],[60],[20],[10],[70]]\n",
    "y = [0,1,1,1,0,0,1]\n",
    "RandomForestRegModel = DecisionTreeClassifier(criterion = 'entropy', random_state = 0)\n",
    "RandomForestRegModel.fit(x,y)\n",
    "x_marks=[[20]]\n",
    "x1_marks=[[67]]\n",
    "print(RandomForestRegModel.predict(x_marks))\n",
    "print(RandomForestRegModel.predict(x1_marks))"
   ]
  },
  {
   "cell_type": "code",
   "execution_count": 9,
   "id": "cba1f74e",
   "metadata": {},
   "outputs": [
    {
     "name": "stdout",
     "output_type": "stream",
     "text": [
      "[0.99]\n",
      "[0.03]\n"
     ]
    }
   ],
   "source": [
    "#Using Random Forest \n",
    "import numpy as np\n",
    "import matplotlib.pyplot as plt\n",
    "import pandas as pd\n",
    "from sklearn.ensemble import RandomForestRegressor\n",
    "x = [[30],[40],[50],[60],[20],[10],[70]]\n",
    "y = [0,1,1,1,0,0,1]\n",
    "RandomForestRegModel = RandomForestRegressor()\n",
    "RandomForestRegModel.fit(x,y)\n",
    "classifier.fit(x,y)\n",
    "x_marks=[[70]]\n",
    "x1_marks=[[20]]\n",
    "print(RandomForestRegModel.predict(x_marks))\n",
    "print(RandomForestRegModel.predict(x1_marks))"
   ]
  },
  {
   "cell_type": "code",
   "execution_count": 10,
   "id": "834c8329",
   "metadata": {},
   "outputs": [
    {
     "name": "stdout",
     "output_type": "stream",
     "text": [
      "[1]\n"
     ]
    }
   ],
   "source": [
    "#Support Vector Machine\n",
    "import numpy as np\n",
    "import matplotlib.pyplot as plt\n",
    "import pandas as pd\n",
    "from sklearn.svm import SVC\n",
    "x = [[30],[40],[50],[60],[20],[10],[70]]\n",
    "y = [0,1,1,1,0,0,1]\n",
    "classifier = SVC(kernel = 'linear', random_state = 0)\n",
    "classifier.fit(x,y)\n",
    "x_marks=[[55]]\n",
    "print(classifier.predict(x_marks))"
   ]
  },
  {
   "cell_type": "code",
   "execution_count": 13,
   "id": "e3b653b0",
   "metadata": {},
   "outputs": [
    {
     "name": "stdout",
     "output_type": "stream",
     "text": [
      "[0]\n",
      "[1]\n"
     ]
    }
   ],
   "source": [
    "#KNN \n",
    "import numpy as np\n",
    "import matplotlib.pyplot as plt\n",
    "import pandas as pd\n",
    "from sklearn.neighbors import KNeighborsClassifier\n",
    "x = [[30],[40],[50],[60],[20],[10],[70]]\n",
    "y = [0,1,1,1,0,0,1]  \n",
    "classifier= KNeighborsClassifier(n_neighbors=5, metric='minkowski', p=2 )  \n",
    "classifier.fit(x,y) \n",
    "x_marks=[[28]]\n",
    "x1_marks=[[57]]\n",
    "print(classifier.predict(x_marks))\n",
    "print(classifier.predict(x1_marks))"
   ]
  }
 ],
 "metadata": {
  "kernelspec": {
   "display_name": "Python 3",
   "language": "python",
   "name": "python3"
  },
  "language_info": {
   "codemirror_mode": {
    "name": "ipython",
    "version": 3
   },
   "file_extension": ".py",
   "mimetype": "text/x-python",
   "name": "python",
   "nbconvert_exporter": "python",
   "pygments_lexer": "ipython3",
   "version": "3.8.8"
  }
 },
 "nbformat": 4,
 "nbformat_minor": 5
}
