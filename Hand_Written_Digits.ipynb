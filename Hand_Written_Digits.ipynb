{
  "nbformat": 4,
  "nbformat_minor": 0,
  "metadata": {
    "colab": {
      "name": "Hand Written Digits.ipynb",
      "provenance": [],
      "collapsed_sections": [],
      "authorship_tag": "ABX9TyMl2xEwfEEypUB9J4ar//H3"
    },
    "kernelspec": {
      "name": "python3",
      "display_name": "Python 3"
    },
    "language_info": {
      "name": "python"
    }
  },
  "cells": [
    {
      "cell_type": "code",
      "metadata": {
        "id": "2T6TxlxHX1By"
      },
      "source": [
        "import pandas as pd\n",
        "import numpy as np\n",
        "import matplotlib.pyplot as plt \n",
        "import random\n",
        "import tensorflow as tf"
      ],
      "execution_count": null,
      "outputs": []
    },
    {
      "cell_type": "code",
      "metadata": {
        "id": "ZZtpNaKGZU47"
      },
      "source": [
        "from tensorflow.keras.models import Sequential\n",
        "from tensorflow.keras.layers import Flatten, Conv2D, Dense, MaxPooling2D\n",
        "from tensorflow.keras.optimizers import SGD\n",
        "from tensorflow.keras.utils import to_categorical\n",
        "from tensorflow.keras.datasets import mnist"
      ],
      "execution_count": null,
      "outputs": []
    },
    {
      "cell_type": "code",
      "metadata": {
        "id": "jNaDCrfzaV1t"
      },
      "source": [
        "from sklearn.metrics import accuracy_score"
      ],
      "execution_count": null,
      "outputs": []
    },
    {
      "cell_type": "code",
      "metadata": {
        "colab": {
          "base_uri": "https://localhost:8080/"
        },
        "id": "W-ROejUSacJp",
        "outputId": "633c6d75-c590-4444-fd2a-d50a1cffff7f"
      },
      "source": [
        "(x_train, y_train), (x_test, y_test) = mnist.load_data()"
      ],
      "execution_count": null,
      "outputs": [
        {
          "output_type": "stream",
          "name": "stdout",
          "text": [
            "Downloading data from https://storage.googleapis.com/tensorflow/tf-keras-datasets/mnist.npz\n",
            "11493376/11490434 [==============================] - 0s 0us/step\n",
            "11501568/11490434 [==============================] - 0s 0us/step\n"
          ]
        }
      ]
    },
    {
      "cell_type": "code",
      "metadata": {
        "colab": {
          "base_uri": "https://localhost:8080/"
        },
        "id": "nyMuEQlPaqyn",
        "outputId": "811c6bcf-cf3e-49d0-a67d-17cd9f2a1e59"
      },
      "source": [
        "x_train.max()"
      ],
      "execution_count": null,
      "outputs": [
        {
          "output_type": "execute_result",
          "data": {
            "text/plain": [
              "255"
            ]
          },
          "metadata": {},
          "execution_count": 12
        }
      ]
    },
    {
      "cell_type": "code",
      "metadata": {
        "colab": {
          "base_uri": "https://localhost:8080/"
        },
        "id": "n7YaenXAa-IT",
        "outputId": "6c23c795-7ecd-4034-bf0a-b28b0e9ed7fd"
      },
      "source": [
        "x_train.min()"
      ],
      "execution_count": null,
      "outputs": [
        {
          "output_type": "execute_result",
          "data": {
            "text/plain": [
              "0"
            ]
          },
          "metadata": {},
          "execution_count": 13
        }
      ]
    },
    {
      "cell_type": "code",
      "metadata": {
        "id": "lGx0vxaxbA-8"
      },
      "source": [
        "#we convert the range from 0 to 255, to 0 to 1. \n",
        "# the formula to scale a value: scaled_value = (original_value – min) / (max – min). In our case, the minimum value is 0 and the maximum value is 255\n",
        "x_train = (x_train - 0.0) / (255.0 - 0.0)\n",
        "x_test = (x_test - 0.0) / (255.0 - 0.0)"
      ],
      "execution_count": null,
      "outputs": []
    },
    {
      "cell_type": "code",
      "metadata": {
        "colab": {
          "base_uri": "https://localhost:8080/",
          "height": 594
        },
        "id": "8l1m5gK7bUev",
        "outputId": "495cba57-3554-41d5-f9e4-1815659d0741"
      },
      "source": [
        "def plot_digit(image, digit, plt, i):\n",
        "    plt.subplot(4, 5, i + 1) #a sub plot of 5 columns and 4 rows, then we pass the index of the image\n",
        "    plt.imshow(image, cmap=plt.get_cmap('gray')) #display the array data as an image\n",
        "    plt.title(f\"Digit: {digit}\")\n",
        "    plt.xticks([])\n",
        "    plt.yticks([])\n",
        "\n",
        "\n",
        "plt.figure(figsize=(16, 10))\n",
        "for i in range(20):\n",
        "    plot_digit(x_train[i], y_train[i], plt, i)\n",
        "    \n",
        "plt.show()\n"
      ],
      "execution_count": null,
      "outputs": [
        {
          "output_type": "display_data",
          "data": {
            "image/png": "[encoded data removed]",
            "text/plain": [
              "<Figure size 1152x720 with 20 Axes>"
            ]
          },
          "metadata": {}
        }
      ]
    },
    {
      "cell_type": "markdown",
      "metadata": {
        "id": "OHSl4x-qcDaZ"
      },
      "source": [
        "In Computer Vision, we usually use 4 dimensions to represent a set of images:\n",
        "\n",
        "The total number of images (we call this \"batch size\")\n",
        "The width of each image\n",
        "The height of each image\n",
        "The number of channels of each image\n",
        "As you saw before, our train set has 3 dimensions only; we are missing the number of channels. We need to transform our data by adding that fourth dimension. Since these images are grayscale, that fourth dimension will be 1.\n",
        "\n",
        "We can use numpy's reshape() function to reshape all of the data by adding that extra dimension."
      ]
    },
    {
      "cell_type": "code",
      "metadata": {
        "id": "4ywsydnVbdq6"
      },
      "source": [
        "x_train = x_train.reshape((x_train.shape +(1,)))\n",
        "x_test = x_test.reshape((x_test.shape + (1,)))"
      ],
      "execution_count": null,
      "outputs": []
    },
    {
      "cell_type": "code",
      "metadata": {
        "colab": {
          "base_uri": "https://localhost:8080/"
        },
        "id": "D90IGVpfcfzI",
        "outputId": "cf6ae76b-9f8e-482c-a161-00b22d3a8596"
      },
      "source": [
        "y_train[0:20]"
      ],
      "execution_count": null,
      "outputs": [
        {
          "output_type": "execute_result",
          "data": {
            "text/plain": [
              "array([5, 0, 4, 1, 9, 2, 1, 3, 1, 4, 3, 5, 3, 6, 1, 7, 2, 8, 6, 9],\n",
              "      dtype=uint8)"
            ]
          },
          "metadata": {},
          "execution_count": 19
        }
      ]
    },
    {
      "cell_type": "code",
      "metadata": {
        "id": "7uuYvc8hcnHt"
      },
      "source": [
        "model = Sequential([\n",
        "    Conv2D(32, (3, 3), activation=\"relu\", input_shape=(28, 28, 1)),\n",
        "    MaxPooling2D((2, 2)),\n",
        "    Flatten(),\n",
        "    Dense(100, activation=\"relu\"),\n",
        "    Dense(10, activation=\"softmax\")\n",
        "])"
      ],
      "execution_count": null,
      "outputs": []
    },
    {
      "cell_type": "code",
      "metadata": {
        "colab": {
          "base_uri": "https://localhost:8080/"
        },
        "id": "_xM75TtIdJ-V",
        "outputId": "25fb48d7-c9d8-4e46-b092-713dc65d24de"
      },
      "source": [
        "optimizer = SGD(learning_rate=0.01, momentum=0.9)\n",
        "model.compile(\n",
        "    optimizer=optimizer, \n",
        "    loss=\"sparse_categorical_crossentropy\", \n",
        "    metrics=[\"accuracy\"]\n",
        ")\n",
        "model.summary()"
      ],
      "execution_count": null,
      "outputs": [
        {
          "output_type": "stream",
          "name": "stdout",
          "text": [
            "Model: \"sequential\"\n",
            "_________________________________________________________________\n",
            "Layer (type)                 Output Shape              Param #   \n",
            "=================================================================\n",
            "conv2d (Conv2D)              (None, 26, 26, 32)        320       \n",
            "_________________________________________________________________\n",
            "max_pooling2d (MaxPooling2D) (None, 13, 13, 32)        0         \n",
            "_________________________________________________________________\n",
            "flatten (Flatten)            (None, 5408)              0         \n",
            "_________________________________________________________________\n",
            "dense (Dense)                (None, 100)               540900    \n",
            "_________________________________________________________________\n",
            "dense_1 (Dense)              (None, 10)                1010      \n",
            "=================================================================\n",
            "Total params: 542,230\n",
            "Trainable params: 542,230\n",
            "Non-trainable params: 0\n",
            "_________________________________________________________________\n"
          ]
        }
      ]
    },
    {
      "cell_type": "code",
      "metadata": {
        "colab": {
          "base_uri": "https://localhost:8080/"
        },
        "id": "M2Ipm15MdSAT",
        "outputId": "f505c1aa-6581-49da-bf35-ce83a6f2c0db"
      },
      "source": [
        "model.fit(x_train, y_train, epochs=10, batch_size=32)"
      ],
      "execution_count": null,
      "outputs": [
        {
          "output_type": "stream",
          "name": "stdout",
          "text": [
            "Epoch 1/10\n",
            "1875/1875 [==============================] - 34s 18ms/step - loss: 0.2393 - accuracy: 0.9275\n",
            "Epoch 2/10\n",
            "1875/1875 [==============================] - 33s 18ms/step - loss: 0.0816 - accuracy: 0.9756\n",
            "Epoch 3/10\n",
            "1875/1875 [==============================] - 34s 18ms/step - loss: 0.0509 - accuracy: 0.9845\n",
            "Epoch 4/10\n",
            "1875/1875 [==============================] - 33s 18ms/step - loss: 0.0358 - accuracy: 0.9892\n",
            "Epoch 5/10\n",
            "1875/1875 [==============================] - 34s 18ms/step - loss: 0.0267 - accuracy: 0.9918\n",
            "Epoch 6/10\n",
            "1875/1875 [==============================] - 34s 18ms/step - loss: 0.0203 - accuracy: 0.9938\n",
            "Epoch 7/10\n",
            "1875/1875 [==============================] - 34s 18ms/step - loss: 0.0146 - accuracy: 0.9957\n",
            "Epoch 8/10\n",
            "1875/1875 [==============================] - 34s 18ms/step - loss: 0.0110 - accuracy: 0.9970\n",
            "Epoch 9/10\n",
            "1875/1875 [==============================] - 33s 18ms/step - loss: 0.0072 - accuracy: 0.9982\n",
            "Epoch 10/10\n",
            "1875/1875 [==============================] - 33s 18ms/step - loss: 0.0057 - accuracy: 0.9987\n"
          ]
        },
        {
          "output_type": "execute_result",
          "data": {
            "text/plain": [
              "<keras.callbacks.History at 0x7fcbba802750>"
            ]
          },
          "metadata": {},
          "execution_count": 22
        }
      ]
    },
    {
      "cell_type": "code",
      "metadata": {
        "colab": {
          "base_uri": "https://localhost:8080/",
          "height": 594
        },
        "id": "dcCvuFLsdaXJ",
        "outputId": "3710420e-9094-4631-81ec-bfa6180ba711"
      },
      "source": [
        "plt.figure(figsize=(16, 10))\n",
        "for i in range(20):\n",
        "    image = random.choice(x_test).squeeze()\n",
        "    digit = np.argmax(model.predict(image.reshape((1, 28, 28, 1)))[0], axis=-1)\n",
        "    plot_digit(image, digit, plt, i)\n",
        "\n",
        "plt.show()"
      ],
      "execution_count": null,
      "outputs": [
        {
          "output_type": "display_data",
          "data": {
            "image/png": "[encoded data removed]",
            "text/plain": [
              "<Figure size 1152x720 with 20 Axes>"
            ]
          },
          "metadata": {}
        }
      ]
    },
    {
      "cell_type": "code",
      "metadata": {
        "id": "kMgIY6MpfCib"
      },
      "source": [
        ""
      ],
      "execution_count": null,
      "outputs": []
    }
  ]
}